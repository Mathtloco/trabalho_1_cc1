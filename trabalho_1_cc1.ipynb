{
 "cells": [
  {
   "cell_type": "markdown",
   "metadata": {},
   "source": [
    "*Primeira Questão*\n",
    "\n",
    "A mantissa tem que estar nesse intervalo 1≤m<β porque se for menor que 1, não estaria normalizada porque o primneiro dígito seria zero. E se fosse maior ou igual que β, ele iria ser divido por β para reduzir seu valor e aumentar o expoente correspondente, que também não seria normalizado."
   ]
  },
  {
   "cell_type": "markdown",
   "metadata": {},
   "source": [
    "*Segunda Questão*\n",
    "\n",
    "a)Quantos números são represenáveis?\n",
    "\n",
    "Como a precisão é 3 a mantissa terá 3 bits, sendo o primeiro bit normalizado, e os dois seguintes podem variar de até 4 possíveis combinações para a mantissa. (2²=4)\n",
    "\n",
    "O intervalo do E (expoente) varia ente [L,U]. ([-1,1]).\n",
    "\n",
    "Para calcular todas as variações representáveis da mantissa fica o cálculo: 4 x 3 = 12.\n",
    "\n",
    "b)Qual o UFL e o OFL?\n",
    "\n"
   ]
  }
 ],
 "metadata": {
  "language_info": {
   "name": "python"
  }
 },
 "nbformat": 4,
 "nbformat_minor": 2
}
